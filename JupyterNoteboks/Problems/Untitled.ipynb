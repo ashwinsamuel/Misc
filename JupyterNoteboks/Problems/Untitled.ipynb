{
 "cells": [
  {
   "cell_type": "markdown",
   "metadata": {},
   "source": [
    "Ordering a list of sets"
   ]
  },
  {
   "cell_type": "code",
   "execution_count": 32,
   "metadata": {},
   "outputs": [
    {
     "name": "stdout",
     "output_type": "stream",
     "text": [
      "[(0, 1), (0, 4), (0, 5), (0, 3), (0, 6), (0, 7)]\n"
     ]
    }
   ],
   "source": [
    "new_set = [(0, 1), (0, 4), (0, 5)] \n",
    "new_otherSet = [(0, 3), (0, 6), (0, 7)]\n",
    "joined_set = new_set + new_otherSet\n",
    "print(joined_set)"
   ]
  },
  {
   "cell_type": "code",
   "execution_count": 33,
   "metadata": {},
   "outputs": [
    {
     "data": {
      "text/plain": [
       "[(0, 1), (0, 3), (0, 4), (0, 5), (0, 6), (0, 7)]"
      ]
     },
     "execution_count": 33,
     "metadata": {},
     "output_type": "execute_result"
    }
   ],
   "source": [
    "sorted(joined_set, key=lambda coord: coord[1])"
   ]
  },
  {
   "cell_type": "code",
   "execution_count": 34,
   "metadata": {},
   "outputs": [
    {
     "data": {
      "text/plain": [
       "1"
      ]
     },
     "execution_count": 34,
     "metadata": {},
     "output_type": "execute_result"
    }
   ],
   "source": [
    "int(not 0)"
   ]
  },
  {
   "cell_type": "markdown",
   "metadata": {},
   "source": [
    "More complex sets"
   ]
  },
  {
   "cell_type": "code",
   "execution_count": 88,
   "metadata": {},
   "outputs": [
    {
     "name": "stdout",
     "output_type": "stream",
     "text": [
      "[(0, 1), (0, 4), (1, 4), (1, 5), (0, 3), (1, 1), (0, 5), (2, 5), (0, 6), (1, 7)]\n"
     ]
    }
   ],
   "source": [
    "new_set2 = [(0, 1), (0, 4), (1, 4), (1, 5)] \n",
    "new_otherSet2 = [(0, 3), (1, 1), (0, 5), (2, 5), (0, 6), (1, 7)]\n",
    "joined_set2 = new_set2 + new_otherSet2\n",
    "print(joined_set2)"
   ]
  },
  {
   "cell_type": "code",
   "execution_count": 89,
   "metadata": {},
   "outputs": [],
   "source": [
    "axis0 = sorted(joined_set2, key=lambda coord: (coord[0], coord[1]))\n",
    "axis1 = sorted(joined_set2, key=lambda coord: (coord[1], coord[0]))"
   ]
  },
  {
   "cell_type": "code",
   "execution_count": 90,
   "metadata": {},
   "outputs": [],
   "source": []
  },
  {
   "cell_type": "code",
   "execution_count": 95,
   "metadata": {},
   "outputs": [
    {
     "name": "stdout",
     "output_type": "stream",
     "text": [
      "[(0, 1), (0, 3), (0, 4), (0, 5), (0, 6), (1, 1), (1, 4), (1, 5), (1, 7), (2, 5)]\n",
      "[(0, 1), (1, 1), (0, 3), (0, 4), (1, 4), (0, 5), (1, 5), (2, 5), (0, 6), (1, 7)]\n",
      "target at:  (0, 3)\n",
      "target at:  (0, 5)\n",
      "target at:  (0, 6)\n",
      "target at:  (1, 1)\n",
      "target at:  (1, 7)\n",
      "target at:  (2, 5)\n",
      "Axis change from 0 to 1\n",
      "Axis change from 1 to 2\n"
     ]
    }
   ],
   "source": [
    "print(axis0)\n",
    "print(axis1)\n",
    "\n",
    "# coordinates in target list\n",
    "for x in axis0:\n",
    "    if(x in new_otherSet2):\n",
    "        print('target at: ', x)\n",
    " \n",
    "# coordinates changed from previous col/row\n",
    "axis = 0\n",
    "for x in axis0:\n",
    "    if(x[0] != axis):\n",
    "        print('Axis change from', axis, 'to', x[0])\n",
    "    \n",
    "    axis = x[0]"
   ]
  },
  {
   "cell_type": "code",
   "execution_count": null,
   "metadata": {},
   "outputs": [],
   "source": []
  }
 ],
 "metadata": {
  "kernelspec": {
   "display_name": "Python 3",
   "language": "python",
   "name": "python3"
  },
  "language_info": {
   "codemirror_mode": {
    "name": "ipython",
    "version": 3
   },
   "file_extension": ".py",
   "mimetype": "text/x-python",
   "name": "python",
   "nbconvert_exporter": "python",
   "pygments_lexer": "ipython3",
   "version": "3.6.7"
  }
 },
 "nbformat": 4,
 "nbformat_minor": 2
}

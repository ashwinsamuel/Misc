{
 "cells": [
  {
   "cell_type": "markdown",
   "metadata": {},
   "source": [
    "# Which problems are worth resolving?\n",
    "\n",
    "1. What causes suffering?\n",
    "2. What causes miscommuniction? \n",
    "3. What makes people happy?\n",
    "4. What does it mean to be happy?\n",
    "5. How would we acquire information regarding happiness? \n",
    "\n",
    "##### Need to research happiness.. \n",
    "\n",
    "##### Ideas include:\n",
    "1. Lie detector w/ face recognition && deep learning"
   ]
  },
  {
   "cell_type": "code",
   "execution_count": null,
   "metadata": {},
   "outputs": [],
   "source": []
  }
 ],
 "metadata": {
  "kernelspec": {
   "display_name": "Python [conda root]",
   "language": "python",
   "name": "conda-root-py"
  },
  "language_info": {
   "codemirror_mode": {
    "name": "ipython",
    "version": 3
   },
   "file_extension": ".py",
   "mimetype": "text/x-python",
   "name": "python",
   "nbconvert_exporter": "python",
   "pygments_lexer": "ipython3",
   "version": "3.6.6"
  }
 },
 "nbformat": 4,
 "nbformat_minor": 2
}
